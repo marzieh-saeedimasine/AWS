{
 "cells": [
  {
   "cell_type": "code",
   "execution_count": 60,
   "id": "be38754d",
   "metadata": {},
   "outputs": [],
   "source": [
    "import os\n",
    "import pandas as pd\n",
    "import urllib\n",
    "import sagemaker, boto3\n",
    "from sagemaker.amazon.amazon_estimator import get_image_uri\n",
    "from sagemaker.session import s3_input, Session\n",
    "from sagemaker.inputs import TrainingInput\n",
    "from sagemaker.serializers import CSVSerializer\n",
    "from sklearn.model_selection import train_test_split"
   ]
  },
  {
   "cell_type": "markdown",
   "id": "22629c25",
   "metadata": {},
   "source": [
    "# Create S3 bucket"
   ]
  },
  {
   "cell_type": "code",
   "execution_count": 16,
   "id": "fc1a98ee",
   "metadata": {},
   "outputs": [
    {
     "data": {
      "text/plain": [
       "'eu-north-1'"
      ]
     },
     "execution_count": 16,
     "metadata": {},
     "output_type": "execute_result"
    }
   ],
   "source": [
    "region=boto3.session.Session().region_name\n",
    "region"
   ]
  },
  {
   "cell_type": "code",
   "execution_count": 18,
   "id": "cc0007c1",
   "metadata": {},
   "outputs": [
    {
     "data": {
      "text/plain": [
       "s3.Bucket(name='marzieh-project')"
      ]
     },
     "execution_count": 18,
     "metadata": {},
     "output_type": "execute_result"
    }
   ],
   "source": [
    "s3 = boto3.resource('s3')\n",
    "bucket_name = \"marzieh-project\"  \n",
    "\n",
    "# Create an S3 bucket with the specified region\n",
    "s3.create_bucket(\n",
    "    Bucket=bucket_name,\n",
    "    CreateBucketConfiguration={'LocationConstraint': region})"
   ]
  },
  {
   "cell_type": "code",
   "execution_count": 19,
   "id": "02f92023",
   "metadata": {},
   "outputs": [
    {
     "name": "stdout",
     "output_type": "stream",
     "text": [
      "s3://marzieh-project/xgboost/output\n"
     ]
    }
   ],
   "source": [
    "prefix = 'xgboost'\n",
    "output_path ='s3://{}/{}/output'.format(bucket_name, prefix)\n",
    "print(output_path)"
   ]
  },
  {
   "cell_type": "markdown",
   "id": "55cd4da1",
   "metadata": {},
   "source": [
    "# Downloading dataset and store in S3"
   ]
  },
  {
   "cell_type": "code",
   "execution_count": 37,
   "id": "4b28e978",
   "metadata": {},
   "outputs": [],
   "source": [
    "urllib.request.urlretrieve (\"https://d1.awsstatic.com/tmt/build-train-deploy-machine-learning-model-sagemaker/bank_clean.27f01fbbdf43271788427f3682996ae29ceca05d.csv\",\n",
    "                            \"bank_clean.csv\")\n",
    "\n",
    "model_data = pd.read_csv('./bank_clean.csv',index_col=0)\n",
    "train,test=train_test_split(model_data,test_size=0.3,random_state=1729)\n",
    "\n",
    "pd.concat([train['y_yes'], train.drop(['y_no', 'y_yes'], \n",
    "                                                axis=1)], \n",
    "                                                axis=1).to_csv('train.csv', index=False, header=False)\n",
    "\n",
    "pd.concat([test['y_yes'], test.drop(['y_no', 'y_yes'], \n",
    "                                                axis=1)], \n",
    "                                                axis=1).to_csv('test.csv', index=False, header=False)\n",
    "\n",
    "\n",
    "boto3.Session().resource('s3').Bucket(bucket_name).Object(os.path.join(prefix, 'train/train.csv')).upload_file('train.csv')\n",
    "boto3.Session().resource('s3').Bucket(bucket_name).Object(os.path.join(prefix, 'test/test.csv')).upload_file('test.csv')\n",
    "\n",
    "\n",
    "s3_input_train = TrainingInput(s3_data='s3://{}/{}/train'.format(bucket_name, prefix), content_type='csv')\n",
    "s3_input_test = TrainingInput(s3_data='s3://{}/{}/test'.format(bucket_name, prefix), content_type='csv')"
   ]
  },
  {
   "cell_type": "markdown",
   "id": "948c12d9",
   "metadata": {},
   "source": [
    "# Building models Xgboot"
   ]
  },
  {
   "cell_type": "code",
   "execution_count": 47,
   "id": "ceecd1df",
   "metadata": {},
   "outputs": [
    {
     "name": "stderr",
     "output_type": "stream",
     "text": [
      "The method get_image_uri has been renamed in sagemaker>=2.\n",
      "See: https://sagemaker.readthedocs.io/en/stable/v2.html for details.\n"
     ]
    },
    {
     "name": "stdout",
     "output_type": "stream",
     "text": [
      "sagemaker.config INFO - Not applying SDK defaults from location: /etc/xdg/sagemaker/config.yaml\n",
      "sagemaker.config INFO - Not applying SDK defaults from location: /home/ec2-user/.config/sagemaker/config.yaml\n"
     ]
    },
    {
     "name": "stderr",
     "output_type": "stream",
     "text": [
      "train_instance_count has been renamed in sagemaker>=2.\n",
      "See: https://sagemaker.readthedocs.io/en/stable/v2.html for details.\n",
      "train_instance_type has been renamed in sagemaker>=2.\n",
      "See: https://sagemaker.readthedocs.io/en/stable/v2.html for details.\n",
      "train_max_run has been renamed in sagemaker>=2.\n",
      "See: https://sagemaker.readthedocs.io/en/stable/v2.html for details.\n",
      "train_use_spot_instances has been renamed in sagemaker>=2.\n",
      "See: https://sagemaker.readthedocs.io/en/stable/v2.html for details.\n",
      "train_max_wait has been renamed in sagemaker>=2.\n",
      "See: https://sagemaker.readthedocs.io/en/stable/v2.html for details.\n",
      "train_volume_size has been renamed in sagemaker>=2.\n",
      "See: https://sagemaker.readthedocs.io/en/stable/v2.html for details.\n"
     ]
    },
    {
     "name": "stdout",
     "output_type": "stream",
     "text": [
      "sagemaker.config INFO - Not applying SDK defaults from location: /etc/xdg/sagemaker/config.yaml\n",
      "sagemaker.config INFO - Not applying SDK defaults from location: /home/ec2-user/.config/sagemaker/config.yaml\n"
     ]
    }
   ],
   "source": [
    "container = get_image_uri(boto3.Session().region_name,'xgboost')   \n",
    "\n",
    "hyperparameters = {\n",
    "        \"max_depth\":\"5\",\n",
    "        \"eta\":\"0.2\",\n",
    "        \"gamma\":\"4\",\n",
    "        \"min_child_weight\":\"6\",\n",
    "        \"subsample\":\"0.7\",\n",
    "        \"objective\":\"binary:logistic\",\n",
    "        \"num_round\":50\n",
    "        }   \n",
    "\n",
    "estimator = sagemaker.estimator.Estimator(image_uri=container, \n",
    "                                          hyperparameters=hyperparameters,\n",
    "                                          output_path=output_path,\n",
    "                                          role=sagemaker.get_execution_role(),\n",
    "                                          train_instance_count=1, \n",
    "                                          train_instance_type='ml.m5.2xlarge', \n",
    "                                          train_volume_size=5, # 5 GB                                           \n",
    "                                          train_use_spot_instances=True,\n",
    "                                          train_max_run=300,\n",
    "                                          train_max_wait=600)"
   ]
  },
  {
   "cell_type": "markdown",
   "id": "23314e92",
   "metadata": {},
   "source": [
    "# Traning and Depoly the model"
   ]
  },
  {
   "cell_type": "code",
   "execution_count": 48,
   "id": "03083988",
   "metadata": {},
   "outputs": [
    {
     "name": "stderr",
     "output_type": "stream",
     "text": [
      "INFO:sagemaker:Creating training-job with name: xgboost-2023-12-08-10-23-29-647\n"
     ]
    },
    {
     "name": "stdout",
     "output_type": "stream",
     "text": [
      "2023-12-08 10:23:29 Starting - Starting the training job......\n",
      "2023-12-08 10:24:02 Starting - Preparing the instances for training......\n",
      "2023-12-08 10:25:25 Downloading - Downloading input data...\n",
      "2023-12-08 10:26:01 Training - Downloading the training image...\n",
      "2023-12-08 10:26:11 Training - Training image download completed. Training in progress..\u001b[34mArguments: train\u001b[0m\n",
      "\u001b[34m[2023-12-08:10:26:29:INFO] Running standalone xgboost training.\u001b[0m\n",
      "\u001b[34m[2023-12-08:10:26:29:INFO] File size need to be processed in the node: 4.83mb. Available memory size in the node: 23618.02mb\u001b[0m\n",
      "\u001b[34m[2023-12-08:10:26:29:INFO] Determined delimiter of CSV input is ','\u001b[0m\n",
      "\u001b[34m[10:26:29] S3DistributionType set as FullyReplicated\u001b[0m\n",
      "\u001b[34m[10:26:30] 28831x59 matrix with 1701029 entries loaded from /opt/ml/input/data/train?format=csv&label_column=0&delimiter=,\u001b[0m\n",
      "\u001b[34m[2023-12-08:10:26:30:INFO] Determined delimiter of CSV input is ','\u001b[0m\n",
      "\u001b[34m[10:26:30] S3DistributionType set as FullyReplicated\u001b[0m\n",
      "\u001b[34m[10:26:30] 12357x59 matrix with 729063 entries loaded from /opt/ml/input/data/validation?format=csv&label_column=0&delimiter=,\u001b[0m\n",
      "\u001b[34m[10:26:30] src/tree/updater_prune.cc:74: tree pruning end, 1 roots, 26 extra nodes, 12 pruned nodes, max_depth=5\u001b[0m\n",
      "\u001b[34m[0]#011train-error:0.103396#011validation-error:0.102533\u001b[0m\n",
      "\u001b[34m[10:26:30] src/tree/updater_prune.cc:74: tree pruning end, 1 roots, 26 extra nodes, 12 pruned nodes, max_depth=5\u001b[0m\n",
      "\u001b[34m[1]#011train-error:0.102875#011validation-error:0.098325\u001b[0m\n",
      "\u001b[34m[10:26:30] src/tree/updater_prune.cc:74: tree pruning end, 1 roots, 24 extra nodes, 18 pruned nodes, max_depth=5\u001b[0m\n",
      "\u001b[34m[2]#011train-error:0.102182#011validation-error:0.097839\u001b[0m\n",
      "\u001b[34m[10:26:30] src/tree/updater_prune.cc:74: tree pruning end, 1 roots, 30 extra nodes, 14 pruned nodes, max_depth=5\u001b[0m\n",
      "\u001b[34m[3]#011train-error:0.102529#011validation-error:0.097516\u001b[0m\n",
      "\u001b[34m[10:26:30] src/tree/updater_prune.cc:74: tree pruning end, 1 roots, 30 extra nodes, 12 pruned nodes, max_depth=5\u001b[0m\n",
      "\u001b[34m[4]#011train-error:0.102737#011validation-error:0.098325\u001b[0m\n",
      "\u001b[34m[10:26:30] src/tree/updater_prune.cc:74: tree pruning end, 1 roots, 22 extra nodes, 16 pruned nodes, max_depth=5\u001b[0m\n",
      "\u001b[34m[5]#011train-error:0.102667#011validation-error:0.097839\u001b[0m\n",
      "\u001b[34m[10:26:30] src/tree/updater_prune.cc:74: tree pruning end, 1 roots, 32 extra nodes, 16 pruned nodes, max_depth=5\u001b[0m\n",
      "\u001b[34m[6]#011train-error:0.102563#011validation-error:0.097677\u001b[0m\n",
      "\u001b[34m[10:26:30] src/tree/updater_prune.cc:74: tree pruning end, 1 roots, 28 extra nodes, 12 pruned nodes, max_depth=5\u001b[0m\n",
      "\u001b[34m[7]#011train-error:0.102529#011validation-error:0.097758\u001b[0m\n",
      "\u001b[34m[10:26:30] src/tree/updater_prune.cc:74: tree pruning end, 1 roots, 26 extra nodes, 22 pruned nodes, max_depth=5\u001b[0m\n",
      "\u001b[34m[8]#011train-error:0.102529#011validation-error:0.097758\u001b[0m\n",
      "\u001b[34m[10:26:30] src/tree/updater_prune.cc:74: tree pruning end, 1 roots, 26 extra nodes, 12 pruned nodes, max_depth=5\u001b[0m\n",
      "\u001b[34m[9]#011train-error:0.102563#011validation-error:0.098001\u001b[0m\n",
      "\u001b[34m[10:26:30] src/tree/updater_prune.cc:74: tree pruning end, 1 roots, 36 extra nodes, 4 pruned nodes, max_depth=5\u001b[0m\n",
      "\u001b[34m[10]#011train-error:0.102459#011validation-error:0.098244\u001b[0m\n",
      "\u001b[34m[10:26:30] src/tree/updater_prune.cc:74: tree pruning end, 1 roots, 26 extra nodes, 22 pruned nodes, max_depth=5\u001b[0m\n",
      "\u001b[34m[11]#011train-error:0.101627#011validation-error:0.098729\u001b[0m\n",
      "\u001b[34m[10:26:30] src/tree/updater_prune.cc:74: tree pruning end, 1 roots, 20 extra nodes, 10 pruned nodes, max_depth=5\u001b[0m\n",
      "\u001b[34m[12]#011train-error:0.101696#011validation-error:0.098568\u001b[0m\n",
      "\u001b[34m[10:26:30] src/tree/updater_prune.cc:74: tree pruning end, 1 roots, 32 extra nodes, 18 pruned nodes, max_depth=5\u001b[0m\n",
      "\u001b[34m[13]#011train-error:0.1018#011validation-error:0.098729\u001b[0m\n",
      "\u001b[34m[10:26:30] src/tree/updater_prune.cc:74: tree pruning end, 1 roots, 22 extra nodes, 14 pruned nodes, max_depth=5\u001b[0m\n",
      "\u001b[34m[14]#011train-error:0.101939#011validation-error:0.098568\u001b[0m\n",
      "\u001b[34m[10:26:30] src/tree/updater_prune.cc:74: tree pruning end, 1 roots, 20 extra nodes, 20 pruned nodes, max_depth=5\u001b[0m\n",
      "\u001b[34m[15]#011train-error:0.101488#011validation-error:0.098649\u001b[0m\n",
      "\u001b[34m[10:26:30] src/tree/updater_prune.cc:74: tree pruning end, 1 roots, 22 extra nodes, 20 pruned nodes, max_depth=5\u001b[0m\n",
      "\u001b[34m[16]#011train-error:0.101696#011validation-error:0.098163\u001b[0m\n",
      "\u001b[34m[10:26:30] src/tree/updater_prune.cc:74: tree pruning end, 1 roots, 24 extra nodes, 30 pruned nodes, max_depth=5\u001b[0m\n",
      "\u001b[34m[17]#011train-error:0.101696#011validation-error:0.098729\u001b[0m\n",
      "\u001b[34m[10:26:30] src/tree/updater_prune.cc:74: tree pruning end, 1 roots, 30 extra nodes, 12 pruned nodes, max_depth=5\u001b[0m\n",
      "\u001b[34m[18]#011train-error:0.101627#011validation-error:0.098649\u001b[0m\n",
      "\u001b[34m[10:26:30] src/tree/updater_prune.cc:74: tree pruning end, 1 roots, 26 extra nodes, 12 pruned nodes, max_depth=5\u001b[0m\n",
      "\u001b[34m[19]#011train-error:0.101523#011validation-error:0.099215\u001b[0m\n",
      "\u001b[34m[10:26:30] src/tree/updater_prune.cc:74: tree pruning end, 1 roots, 20 extra nodes, 18 pruned nodes, max_depth=5\u001b[0m\n",
      "\u001b[34m[20]#011train-error:0.101211#011validation-error:0.09881\u001b[0m\n",
      "\u001b[34m[10:26:30] src/tree/updater_prune.cc:74: tree pruning end, 1 roots, 30 extra nodes, 22 pruned nodes, max_depth=5\u001b[0m\n",
      "\u001b[34m[21]#011train-error:0.101245#011validation-error:0.099053\u001b[0m\n",
      "\u001b[34m[10:26:30] src/tree/updater_prune.cc:74: tree pruning end, 1 roots, 26 extra nodes, 24 pruned nodes, max_depth=5\u001b[0m\n",
      "\u001b[34m[22]#011train-error:0.100968#011validation-error:0.099377\u001b[0m\n",
      "\u001b[34m[10:26:30] src/tree/updater_prune.cc:74: tree pruning end, 1 roots, 22 extra nodes, 18 pruned nodes, max_depth=5\u001b[0m\n",
      "\u001b[34m[23]#011train-error:0.100864#011validation-error:0.100024\u001b[0m\n",
      "\u001b[34m[10:26:30] src/tree/updater_prune.cc:74: tree pruning end, 1 roots, 32 extra nodes, 24 pruned nodes, max_depth=5\u001b[0m\n",
      "\u001b[34m[24]#011train-error:0.100933#011validation-error:0.099781\u001b[0m\n",
      "\u001b[34m[10:26:30] src/tree/updater_prune.cc:74: tree pruning end, 1 roots, 20 extra nodes, 22 pruned nodes, max_depth=5\u001b[0m\n",
      "\u001b[34m[25]#011train-error:0.100898#011validation-error:0.099458\u001b[0m\n",
      "\u001b[34m[10:26:30] src/tree/updater_prune.cc:74: tree pruning end, 1 roots, 36 extra nodes, 16 pruned nodes, max_depth=5\u001b[0m\n",
      "\u001b[34m[26]#011train-error:0.100898#011validation-error:0.098891\u001b[0m\n",
      "\u001b[34m[10:26:30] src/tree/updater_prune.cc:74: tree pruning end, 1 roots, 32 extra nodes, 10 pruned nodes, max_depth=5\u001b[0m\n",
      "\u001b[34m[27]#011train-error:0.100378#011validation-error:0.098972\u001b[0m\n",
      "\u001b[34m[10:26:30] src/tree/updater_prune.cc:74: tree pruning end, 1 roots, 22 extra nodes, 12 pruned nodes, max_depth=5\u001b[0m\n",
      "\u001b[34m[28]#011train-error:0.100343#011validation-error:0.099053\u001b[0m\n",
      "\u001b[34m[10:26:30] src/tree/updater_prune.cc:74: tree pruning end, 1 roots, 30 extra nodes, 26 pruned nodes, max_depth=5\u001b[0m\n",
      "\u001b[34m[29]#011train-error:0.100309#011validation-error:0.099134\u001b[0m\n",
      "\u001b[34m[10:26:30] src/tree/updater_prune.cc:74: tree pruning end, 1 roots, 28 extra nodes, 24 pruned nodes, max_depth=5\u001b[0m\n",
      "\u001b[34m[30]#011train-error:0.100205#011validation-error:0.099053\u001b[0m\n",
      "\u001b[34m[10:26:30] src/tree/updater_prune.cc:74: tree pruning end, 1 roots, 24 extra nodes, 16 pruned nodes, max_depth=5\u001b[0m\n",
      "\u001b[34m[31]#011train-error:0.099962#011validation-error:0.098891\u001b[0m\n",
      "\u001b[34m[10:26:30] src/tree/updater_prune.cc:74: tree pruning end, 1 roots, 20 extra nodes, 12 pruned nodes, max_depth=5\u001b[0m\n",
      "\u001b[34m[32]#011train-error:0.099892#011validation-error:0.098729\u001b[0m\n",
      "\u001b[34m[10:26:30] src/tree/updater_prune.cc:74: tree pruning end, 1 roots, 4 extra nodes, 20 pruned nodes, max_depth=2\u001b[0m\n",
      "\u001b[34m[33]#011train-error:0.099997#011validation-error:0.098729\u001b[0m\n",
      "\u001b[34m[10:26:30] src/tree/updater_prune.cc:74: tree pruning end, 1 roots, 24 extra nodes, 26 pruned nodes, max_depth=5\u001b[0m\n",
      "\u001b[34m[34]#011train-error:0.099892#011validation-error:0.098487\u001b[0m\n",
      "\u001b[34m[10:26:30] src/tree/updater_prune.cc:74: tree pruning end, 1 roots, 10 extra nodes, 14 pruned nodes, max_depth=5\u001b[0m\n",
      "\u001b[34m[35]#011train-error:0.099962#011validation-error:0.098487\u001b[0m\n",
      "\u001b[34m[10:26:30] src/tree/updater_prune.cc:74: tree pruning end, 1 roots, 14 extra nodes, 24 pruned nodes, max_depth=5\u001b[0m\n",
      "\u001b[34m[36]#011train-error:0.10017#011validation-error:0.09881\u001b[0m\n",
      "\u001b[34m[10:26:30] src/tree/updater_prune.cc:74: tree pruning end, 1 roots, 20 extra nodes, 20 pruned nodes, max_depth=5\u001b[0m\n",
      "\u001b[34m[37]#011train-error:0.100205#011validation-error:0.098649\u001b[0m\n",
      "\u001b[34m[10:26:30] src/tree/updater_prune.cc:74: tree pruning end, 1 roots, 12 extra nodes, 6 pruned nodes, max_depth=5\u001b[0m\n",
      "\u001b[34m[38]#011train-error:0.100101#011validation-error:0.098649\u001b[0m\n",
      "\u001b[34m[10:26:30] src/tree/updater_prune.cc:74: tree pruning end, 1 roots, 14 extra nodes, 18 pruned nodes, max_depth=5\u001b[0m\n",
      "\u001b[34m[39]#011train-error:0.099962#011validation-error:0.098649\u001b[0m\n",
      "\u001b[34m[10:26:30] src/tree/updater_prune.cc:74: tree pruning end, 1 roots, 16 extra nodes, 10 pruned nodes, max_depth=5\u001b[0m\n",
      "\u001b[34m[40]#011train-error:0.099892#011validation-error:0.09881\u001b[0m\n",
      "\u001b[34m[10:26:30] src/tree/updater_prune.cc:74: tree pruning end, 1 roots, 26 extra nodes, 22 pruned nodes, max_depth=5\u001b[0m\n",
      "\u001b[34m[41]#011train-error:0.09965#011validation-error:0.09881\u001b[0m\n",
      "\u001b[34m[10:26:30] src/tree/updater_prune.cc:74: tree pruning end, 1 roots, 26 extra nodes, 6 pruned nodes, max_depth=5\u001b[0m\n",
      "\u001b[34m[42]#011train-error:0.099858#011validation-error:0.09881\u001b[0m\n",
      "\u001b[34m[10:26:30] src/tree/updater_prune.cc:74: tree pruning end, 1 roots, 10 extra nodes, 22 pruned nodes, max_depth=4\u001b[0m\n",
      "\u001b[34m[43]#011train-error:0.099615#011validation-error:0.099296\u001b[0m\n",
      "\u001b[34m[10:26:30] src/tree/updater_prune.cc:74: tree pruning end, 1 roots, 14 extra nodes, 12 pruned nodes, max_depth=5\u001b[0m\n",
      "\u001b[34m[44]#011train-error:0.099684#011validation-error:0.098729\u001b[0m\n",
      "\u001b[34m[10:26:31] src/tree/updater_prune.cc:74: tree pruning end, 1 roots, 16 extra nodes, 28 pruned nodes, max_depth=5\u001b[0m\n",
      "\u001b[34m[45]#011train-error:0.099615#011validation-error:0.098891\u001b[0m\n",
      "\u001b[34m[10:26:31] src/tree/updater_prune.cc:74: tree pruning end, 1 roots, 22 extra nodes, 16 pruned nodes, max_depth=5\u001b[0m\n",
      "\u001b[34m[46]#011train-error:0.099615#011validation-error:0.098729\u001b[0m\n",
      "\u001b[34m[10:26:31] src/tree/updater_prune.cc:74: tree pruning end, 1 roots, 14 extra nodes, 12 pruned nodes, max_depth=5\u001b[0m\n",
      "\u001b[34m[47]#011train-error:0.099442#011validation-error:0.098325\u001b[0m\n",
      "\u001b[34m[10:26:31] src/tree/updater_prune.cc:74: tree pruning end, 1 roots, 24 extra nodes, 16 pruned nodes, max_depth=5\u001b[0m\n",
      "\u001b[34m[48]#011train-error:0.099442#011validation-error:0.098406\u001b[0m\n",
      "\u001b[34m[10:26:31] src/tree/updater_prune.cc:74: tree pruning end, 1 roots, 12 extra nodes, 30 pruned nodes, max_depth=4\u001b[0m\n",
      "\u001b[34m[49]#011train-error:0.099476#011validation-error:0.098082\u001b[0m\n",
      "\n",
      "2023-12-08 10:26:48 Uploading - Uploading generated training model\n",
      "2023-12-08 10:26:48 Completed - Training job completed\n",
      "Training seconds: 83\n",
      "Billable seconds: 26\n",
      "Managed Spot Training savings: 68.7%\n"
     ]
    }
   ],
   "source": [
    "estimator.fit({'train': s3_input_train,'validation': s3_input_test})"
   ]
  },
  {
   "cell_type": "code",
   "execution_count": 54,
   "id": "30c1804f",
   "metadata": {},
   "outputs": [],
   "source": [
    "xgb_predictor = estimator.deploy(initial_instance_count=1,instance_type='ml.m4.xlarge')"
   ]
  },
  {
   "cell_type": "code",
   "execution_count": 61,
   "id": "1f26687a",
   "metadata": {},
   "outputs": [
    {
     "ename": "NameError",
     "evalue": "name 'xgb_predictor' is not defined",
     "output_type": "error",
     "traceback": [
      "\u001b[0;31m---------------------------------------------------------------------------\u001b[0m",
      "\u001b[0;31mNameError\u001b[0m                                 Traceback (most recent call last)",
      "Cell \u001b[0;32mIn[61], line 2\u001b[0m\n\u001b[1;32m      1\u001b[0m test_array \u001b[38;5;241m=\u001b[39m test\u001b[38;5;241m.\u001b[39mdrop([\u001b[38;5;124m'\u001b[39m\u001b[38;5;124my_no\u001b[39m\u001b[38;5;124m'\u001b[39m, \u001b[38;5;124m'\u001b[39m\u001b[38;5;124my_yes\u001b[39m\u001b[38;5;124m'\u001b[39m], axis\u001b[38;5;241m=\u001b[39m\u001b[38;5;241m1\u001b[39m)\u001b[38;5;241m.\u001b[39mvalues \n\u001b[0;32m----> 2\u001b[0m \u001b[43mxgb_predictor\u001b[49m\u001b[38;5;241m.\u001b[39mcontent_type \u001b[38;5;241m=\u001b[39m \u001b[38;5;124m'\u001b[39m\u001b[38;5;124mtext/csv\u001b[39m\u001b[38;5;124m'\u001b[39m \n\u001b[1;32m      3\u001b[0m xgb_predictor\u001b[38;5;241m.\u001b[39mserializer \u001b[38;5;241m=\u001b[39m CSVSerializer\n\u001b[1;32m      5\u001b[0m predictions \u001b[38;5;241m=\u001b[39m xgb_predictor\u001b[38;5;241m.\u001b[39mpredict(test_array)\u001b[38;5;241m.\u001b[39mdecode(\u001b[38;5;124m'\u001b[39m\u001b[38;5;124mutf-8\u001b[39m\u001b[38;5;124m'\u001b[39m) \n",
      "\u001b[0;31mNameError\u001b[0m: name 'xgb_predictor' is not defined"
     ]
    }
   ],
   "source": [
    "test_array = test.drop(['y_no', 'y_yes'], axis=1).values \n",
    "xgb_predictor.content_type = 'text/csv' \n",
    "xgb_predictor.serializer = CSVSerializer\n",
    "\n",
    "predictions = xgb_predictor.predict(test_array).decode('utf-8') \n",
    "predictions_array = np.fromstring(predictions[1:], sep=',') \n",
    "print(predictions_array)"
   ]
  },
  {
   "cell_type": "code",
   "execution_count": 59,
   "id": "e77f4912",
   "metadata": {},
   "outputs": [],
   "source": [
    "sagemaker.Session().delete_endpoint(xgb_predictor.endpoint)\n",
    "bucket_to_delete = boto3.resource('s3').Bucket(bucket_name)\n",
    "bucket_to_delete.objects.all().delete()"
   ]
  },
  {
   "cell_type": "code",
   "execution_count": null,
   "id": "668640c3",
   "metadata": {},
   "outputs": [],
   "source": []
  }
 ],
 "metadata": {
  "kernelspec": {
   "display_name": "conda_python3",
   "language": "python",
   "name": "conda_python3"
  },
  "language_info": {
   "codemirror_mode": {
    "name": "ipython",
    "version": 3
   },
   "file_extension": ".py",
   "mimetype": "text/x-python",
   "name": "python",
   "nbconvert_exporter": "python",
   "pygments_lexer": "ipython3",
   "version": "3.10.13"
  }
 },
 "nbformat": 4,
 "nbformat_minor": 5
}
